{
 "cells": [
  {
   "cell_type": "code",
   "execution_count": 1,
   "id": "d616939b-c529-4516-8471-1ac6ba116630",
   "metadata": {},
   "outputs": [],
   "source": [
    "#Question1 "
   ]
  },
  {
   "cell_type": "code",
   "execution_count": 2,
   "id": "6dbebbf2-5938-4e4d-98e7-ee84b0d6b6a4",
   "metadata": {},
   "outputs": [],
   "source": [
    "a=\"OmRane\" #String datatype"
   ]
  },
  {
   "cell_type": "code",
   "execution_count": 3,
   "id": "e4540d08-42f3-4611-bf59-8d9188279bb8",
   "metadata": {},
   "outputs": [],
   "source": [
    "b=[1,2,3,4,\"Assignment\"] #List datatype"
   ]
  },
  {
   "cell_type": "code",
   "execution_count": 4,
   "id": "d17c2bc8-6b8f-4cd1-ad71-0df0585c6ace",
   "metadata": {},
   "outputs": [],
   "source": [
    "d=456.56 #Float datatype"
   ]
  },
  {
   "cell_type": "code",
   "execution_count": 9,
   "id": "5866b9b9-4c35-4b24-a07c-b53e32dd5436",
   "metadata": {},
   "outputs": [],
   "source": [
    "e=(1,2,3,4,5) #tupple datatype"
   ]
  },
  {
   "cell_type": "code",
   "execution_count": 10,
   "id": "3147471b-f55e-449b-92c7-7d807a465491",
   "metadata": {},
   "outputs": [],
   "source": [
    "#question 2"
   ]
  },
  {
   "cell_type": "code",
   "execution_count": 2,
   "id": "0d6bd7f9-434e-4281-bff0-afd1d21b46b6",
   "metadata": {},
   "outputs": [],
   "source": [
    "var1=''"
   ]
  },
  {
   "cell_type": "code",
   "execution_count": 3,
   "id": "990fc66e-9c4c-480b-b30d-b5df9f24ea8c",
   "metadata": {},
   "outputs": [
    {
     "data": {
      "text/plain": [
       "str"
      ]
     },
     "execution_count": 3,
     "metadata": {},
     "output_type": "execute_result"
    }
   ],
   "source": [
    "type(var1)"
   ]
  },
  {
   "cell_type": "code",
   "execution_count": 4,
   "id": "48ecf969-46f0-4e88-9b8d-1f028188cc5e",
   "metadata": {},
   "outputs": [],
   "source": [
    "var2='[DS,ML,Python]'"
   ]
  },
  {
   "cell_type": "code",
   "execution_count": 5,
   "id": "649cea44-7132-459b-8eee-50cb8a111dc1",
   "metadata": {},
   "outputs": [
    {
     "data": {
      "text/plain": [
       "str"
      ]
     },
     "execution_count": 5,
     "metadata": {},
     "output_type": "execute_result"
    }
   ],
   "source": [
    "type(var2)"
   ]
  },
  {
   "cell_type": "code",
   "execution_count": 6,
   "id": "433960b0-eeb3-4624-83bc-81187e561a43",
   "metadata": {},
   "outputs": [],
   "source": [
    "var3=['DS','ML','Python']"
   ]
  },
  {
   "cell_type": "code",
   "execution_count": 7,
   "id": "484f46f5-ed4f-4692-a969-6554cf769b52",
   "metadata": {},
   "outputs": [
    {
     "data": {
      "text/plain": [
       "list"
      ]
     },
     "execution_count": 7,
     "metadata": {},
     "output_type": "execute_result"
    }
   ],
   "source": [
    "type(var3)"
   ]
  },
  {
   "cell_type": "code",
   "execution_count": 8,
   "id": "cb083a69-c84f-4084-8eb3-b852255ce7d2",
   "metadata": {},
   "outputs": [],
   "source": [
    "var4=1"
   ]
  },
  {
   "cell_type": "code",
   "execution_count": 9,
   "id": "1e9f9e59-3cb3-4b21-8639-8456af5110e1",
   "metadata": {},
   "outputs": [
    {
     "data": {
      "text/plain": [
       "int"
      ]
     },
     "execution_count": 9,
     "metadata": {},
     "output_type": "execute_result"
    }
   ],
   "source": [
    "type(var4)"
   ]
  },
  {
   "cell_type": "code",
   "execution_count": 10,
   "id": "fbf161cb-5494-4eb5-95ae-f07da9057830",
   "metadata": {},
   "outputs": [],
   "source": [
    "#question 3"
   ]
  },
  {
   "cell_type": "code",
   "execution_count": 14,
   "id": "b79016be-8101-499c-8162-afd24340c4fc",
   "metadata": {},
   "outputs": [
    {
     "data": {
      "text/plain": [
       "2.0"
      ]
     },
     "execution_count": 14,
     "metadata": {},
     "output_type": "execute_result"
    }
   ],
   "source": [
    "#/ is used when we have to do usual division\n",
    "10/5\n"
   ]
  },
  {
   "cell_type": "code",
   "execution_count": 15,
   "id": "e963f1ee-6359-41eb-baf3-cf3b1fcab3bb",
   "metadata": {},
   "outputs": [
    {
     "data": {
      "text/plain": [
       "0"
      ]
     },
     "execution_count": 15,
     "metadata": {},
     "output_type": "execute_result"
    }
   ],
   "source": [
    "#% is used to when we need to find remainder\n",
    "10%5\n"
   ]
  },
  {
   "cell_type": "code",
   "execution_count": 16,
   "id": "50e251a2-5f3d-45c1-b937-560b3a305fc5",
   "metadata": {},
   "outputs": [
    {
     "data": {
      "text/plain": [
       "2"
      ]
     },
     "execution_count": 16,
     "metadata": {},
     "output_type": "execute_result"
    }
   ],
   "source": [
    "#// removes the decimal part from the division\n",
    "5//2\n"
   ]
  },
  {
   "cell_type": "code",
   "execution_count": 17,
   "id": "01fad6f4-5566-4378-ac4a-62fdb475de43",
   "metadata": {},
   "outputs": [
    {
     "data": {
      "text/plain": [
       "8"
      ]
     },
     "execution_count": 17,
     "metadata": {},
     "output_type": "execute_result"
    }
   ],
   "source": [
    "#**gives the exponential power if the integer\n",
    "2**3"
   ]
  },
  {
   "cell_type": "code",
   "execution_count": 1,
   "id": "7172947b-da97-478f-a32b-486698b63811",
   "metadata": {},
   "outputs": [
    {
     "name": "stdout",
     "output_type": "stream",
     "text": [
      "OmRane \t <class 'str'>\n",
      "100 \t <class 'int'>\n",
      "105.4 \t <class 'float'>\n",
      "True \t <class 'bool'>\n",
      "Assignment \t <class 'str'>\n",
      "False \t <class 'bool'>\n",
      "Sanji \t <class 'str'>\n",
      "783.5 \t <class 'float'>\n",
      "DataScience \t <class 'str'>\n",
      "45.5 \t <class 'float'>\n"
     ]
    }
   ],
   "source": [
    "#Question 4\n",
    "list1=[\"OmRane\",100,105.4,True,'Assignment',False,\"Sanji\",783.5,\"DataScience\",45.5]\n",
    "\n",
    "for i in list1:\n",
    "    print(i,\"\\t\",type(i))\n",
    "    "
   ]
  },
  {
   "cell_type": "code",
   "execution_count": 2,
   "id": "f6129264-0414-43ce-bc9f-8ff1aa590a14",
   "metadata": {},
   "outputs": [
    {
     "name": "stdin",
     "output_type": "stream",
     "text": [
      " 24\n",
      " 4\n"
     ]
    },
    {
     "name": "stdout",
     "output_type": "stream",
     "text": [
      "2\n"
     ]
    }
   ],
   "source": [
    "#question 5\n",
    "a=int(input())\n",
    "b=int(input())\n",
    "count=1\n",
    "while a%b==0:\n",
    "    a/=b\n",
    "    count=count+1\n",
    "print(count)"
   ]
  },
  {
   "cell_type": "code",
   "execution_count": 8,
   "id": "f5596abe-04b2-4510-918b-9dbb6af552cd",
   "metadata": {},
   "outputs": [
    {
     "name": "stdout",
     "output_type": "stream",
     "text": [
      "24  is   divisible by 3\n",
      "85 is not divisible by 3\n",
      "45  is   divisible by 3\n",
      "64 is not divisible by 3\n",
      "85 is not divisible by 3\n",
      "47 is not divisible by 3\n",
      "36  is   divisible by 3\n",
      "78  is   divisible by 3\n",
      "96  is   divisible by 3\n",
      "45  is   divisible by 3\n",
      "24  is   divisible by 3\n",
      "78  is   divisible by 3\n",
      "65 is not divisible by 3\n",
      "78  is   divisible by 3\n",
      "41 is not divisible by 3\n",
      "25 is not divisible by 3\n",
      "65 is not divisible by 3\n",
      "56 is not divisible by 3\n",
      "78  is   divisible by 3\n",
      "89 is not divisible by 3\n",
      "36  is   divisible by 3\n",
      "52 is not divisible by 3\n",
      "45  is   divisible by 3\n",
      "95 is not divisible by 3\n",
      "62 is not divisible by 3\n"
     ]
    }
   ],
   "source": [
    "#question 6\n",
    "list1=[24,85,45,64,85,47,36,78,96,45,24,78,65,78,41,25,65,56,78,89,36,52,45,95,62]\n",
    "for i in list1:\n",
    "    if i%3==0:\n",
    "        print(i,\" is   divisible by 3\")\n",
    "    else :\n",
    "        print(i,\"is not divisible by 3\")\n",
    "        \n",
    "        "
   ]
  },
  {
   "cell_type": "code",
   "execution_count": 28,
   "id": "ce5f904d-0030-4cf1-b616-3ca217a6dc10",
   "metadata": {},
   "outputs": [
    {
     "name": "stdout",
     "output_type": "stream",
     "text": [
      "List is Mutable\n",
      "[1, 2, 3, 4, 5]\n",
      "[1, 3, 3, 4, 5]\n",
      "\n",
      "String i immutable\n",
      "\n",
      " Science\n",
      "\n",
      "For changing single word also we have to overwrite th entire word \n"
     ]
    }
   ],
   "source": [
    "#question 7\n",
    "print(\"List is Mutable\")\n",
    "list1=[1,2,3,4,5]\n",
    "print(list1)\n",
    "list1[1]=3\n",
    "print(list1)\n",
    "print(\"\\nString i immutable\")\n",
    "a=\"Science\"\n",
    "print(\"\\n\",a)\n",
    "print(\"\\nFor changing single word also we have to overwrite th entire word \")\n",
    "\n"
   ]
  },
  {
   "cell_type": "code",
   "execution_count": null,
   "id": "3b28ec93-eec2-4646-b77b-8f5ec08ecfa5",
   "metadata": {},
   "outputs": [],
   "source": []
  },
  {
   "cell_type": "code",
   "execution_count": null,
   "id": "47c878fe-25b3-462f-ac46-2a2bf37cc793",
   "metadata": {},
   "outputs": [],
   "source": []
  }
 ],
 "metadata": {
  "kernelspec": {
   "display_name": "Python 3 (ipykernel)",
   "language": "python",
   "name": "python3"
  },
  "language_info": {
   "codemirror_mode": {
    "name": "ipython",
    "version": 3
   },
   "file_extension": ".py",
   "mimetype": "text/x-python",
   "name": "python",
   "nbconvert_exporter": "python",
   "pygments_lexer": "ipython3",
   "version": "3.10.8"
  }
 },
 "nbformat": 4,
 "nbformat_minor": 5
}
