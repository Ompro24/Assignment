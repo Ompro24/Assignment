{
 "cells": [
  {
   "cell_type": "code",
   "execution_count": 7,
   "id": "22a29f23-4643-4020-a650-6ea89bf59297",
   "metadata": {},
   "outputs": [
    {
     "data": {
      "text/plain": [
       "' \\nExample of multiline comment\\nprintf()\\n'"
      ]
     },
     "execution_count": 7,
     "metadata": {},
     "output_type": "execute_result"
    }
   ],
   "source": [
    "#Q1. How do you comment code in Python? What are the different types of comments?\n",
    "#There are two types of comments single line commennt and multi line comment\n",
    "\n",
    "#Example of single line comment \n",
    "\n",
    "\"\"\" \n",
    "Example of multiline comment\n",
    "printf()\n",
    "\"\"\"\n"
   ]
  },
  {
   "cell_type": "code",
   "execution_count": 13,
   "id": "578e375b-48b3-48a5-ba8e-27295912c1a7",
   "metadata": {},
   "outputs": [
    {
     "name": "stdin",
     "output_type": "stream",
     "text": [
      "Enter your marks : 95\n"
     ]
    },
    {
     "name": "stdout",
     "output_type": "stream",
     "text": [
      "85.0 \t 95.0\n"
     ]
    }
   ],
   "source": [
    "#Q2. What are variables in Python? How do you declare and assign values to variables?\n",
    "\n",
    "marks=85 #Here marks is variable and we are assigning 85 as its value \n",
    "\n",
    "marks=float(85) #Here it is another way if assigning values by defining the data type\n",
    "\n",
    "marks1=float(input(\"Enter your marks :\")) #Here we are assigning variable value on user input\n",
    "\n",
    "print(marks,\"\\t\",marks1)\n",
    "\n"
   ]
  },
  {
   "cell_type": "code",
   "execution_count": 14,
   "id": "cf3f87c6-d18f-4167-bfcb-1a7e5d34bb16",
   "metadata": {},
   "outputs": [
    {
     "name": "stdout",
     "output_type": "stream",
     "text": [
      "OmMaheshRane <class 'str'>\n",
      "['O', 'm', 'M', 'a', 'h', 'e', 's', 'h', 'R', 'a', 'n', 'e'] <class 'list'>\n",
      "('O', 'm', 'M', 'a', 'h', 'e', 's', 'h', 'R', 'a', 'n', 'e') <class 'tuple'>\n"
     ]
    }
   ],
   "source": [
    "#How do you convert one data type to another in Python?\n",
    "#we can do it by using built in function\n",
    "\n",
    "name=\"OmMaheshRane\"\n",
    "\n",
    "convert=list(name)\n",
    "convert2=tuple(name)\n",
    "print(name,type(name))\n",
    "print(convert,type(convert))\n",
    "print(convert2,type(convert2))\n"
   ]
  },
  {
   "cell_type": "code",
   "execution_count": 2,
   "id": "752189f7-180a-4e31-ba3d-0b677a0240e3",
   "metadata": {},
   "outputs": [
    {
     "data": {
      "text/plain": [
       "\"\\nTo write and execute a Python script from the command line:\\n\\nCreate a new file with a .py extension, such as script.py.\\nWrite your Python code in the file and save it.\\nOpen the command line, navigate to the file's directory, and use the command python script.py to execute the script.\\n\""
      ]
     },
     "execution_count": 2,
     "metadata": {},
     "output_type": "execute_result"
    }
   ],
   "source": [
    "#How do you write and execute a Python script from the command line?\n",
    "\"\"\"\n",
    "To write and execute a Python script from the command line:\n",
    "\n",
    "Create a new file with a .py extension, such as script.py.\n",
    "Write your Python code in the file and save it.\n",
    "Open the command line, navigate to the file's directory, and use the command python script.py to execute the script.\n",
    "\"\"\""
   ]
  },
  {
   "cell_type": "code",
   "execution_count": 16,
   "id": "f048618a-a5a8-4360-962f-d407b2b76950",
   "metadata": {},
   "outputs": [
    {
     "data": {
      "text/plain": [
       "[2, 3]"
      ]
     },
     "execution_count": 16,
     "metadata": {},
     "output_type": "execute_result"
    }
   ],
   "source": [
    "#Given a list my_list = [1, 2, 3, 4, 5], write the code to slice the list and obtain the sub-list [2, 3].\n",
    "\n",
    "my_list = [1, 2, 3, 4, 5]\n",
    "\n",
    "my_list[1:3]"
   ]
  },
  {
   "cell_type": "code",
   "execution_count": 19,
   "id": "72a5444c-cd8a-4a15-9e03-cfd6a52d618d",
   "metadata": {},
   "outputs": [
    {
     "data": {
      "text/plain": [
       "complex"
      ]
     },
     "execution_count": 19,
     "metadata": {},
     "output_type": "execute_result"
    }
   ],
   "source": [
    "#What is a complex number in mathematics, and how is it represented in Python?\n",
    "\n",
    "#In mathematics, a complex number is a number that can be expressed in the form a+bi, where a and b are real numbers, and \n",
    "#i is the imaginary unit defined\n",
    "\n",
    "complexnum=2+4j#In python complex number is denoted by j\n",
    "type(complexnum)"
   ]
  },
  {
   "cell_type": "code",
   "execution_count": 20,
   "id": "345a9629-794b-4302-b50e-6f02bb64325a",
   "metadata": {},
   "outputs": [],
   "source": [
    "#What is the correct way to declare a variable named age and assign the value 25 to it?\n",
    "\n",
    "Age=25"
   ]
  },
  {
   "cell_type": "code",
   "execution_count": 21,
   "id": "3a48e73e-c793-4fd6-82ec-e1dab179061f",
   "metadata": {},
   "outputs": [
    {
     "data": {
      "text/plain": [
       "float"
      ]
     },
     "execution_count": 21,
     "metadata": {},
     "output_type": "execute_result"
    }
   ],
   "source": [
    "#Q8. Declare a variable named price and assign the value 9.99 to it. What data type does this variable belong to?\n",
    "\n",
    "Price=9.99 \n",
    "type(Price)"
   ]
  },
  {
   "cell_type": "code",
   "execution_count": 22,
   "id": "b85f6195-923a-47ae-8b3f-ae57468a0f97",
   "metadata": {},
   "outputs": [
    {
     "name": "stdout",
     "output_type": "stream",
     "text": [
      "Om Mahesh Rane\n"
     ]
    }
   ],
   "source": [
    "#Q9. Create a variable named name and assign your full name to it as a string. How would you print the value of this variable?\n",
    "\n",
    "Name=\"Om Mahesh Rane\"\n",
    "print(Name)"
   ]
  },
  {
   "cell_type": "code",
   "execution_count": 28,
   "id": "d2f970d8-11b6-4f42-83cb-e6c425790b4c",
   "metadata": {},
   "outputs": [
    {
     "data": {
      "text/plain": [
       "'World'"
      ]
     },
     "execution_count": 28,
     "metadata": {},
     "output_type": "execute_result"
    }
   ],
   "source": [
    "#Given the string \"Hello, World!\", extract the substring \"World\".\n",
    "\n",
    "string1=\"Hello, World!\"\n",
    "string1[7:12]\n"
   ]
  },
  {
   "cell_type": "code",
   "execution_count": 1,
   "id": "f447a839-2e23-461c-89ad-7838087d6838",
   "metadata": {},
   "outputs": [
    {
     "name": "stdout",
     "output_type": "stream",
     "text": [
      "True\n"
     ]
    }
   ],
   "source": [
    "#Create a variable named \"is_student\" and assign it a boolean value indicating whether you are currently a student or not.\n",
    "is_student=True\n",
    "print(is_student)"
   ]
  },
  {
   "cell_type": "code",
   "execution_count": null,
   "id": "da4512bb-cb53-4a0c-ae46-e2f60804417c",
   "metadata": {},
   "outputs": [],
   "source": []
  }
 ],
 "metadata": {
  "kernelspec": {
   "display_name": "Python 3 (ipykernel)",
   "language": "python",
   "name": "python3"
  },
  "language_info": {
   "codemirror_mode": {
    "name": "ipython",
    "version": 3
   },
   "file_extension": ".py",
   "mimetype": "text/x-python",
   "name": "python",
   "nbconvert_exporter": "python",
   "pygments_lexer": "ipython3",
   "version": "3.10.8"
  }
 },
 "nbformat": 4,
 "nbformat_minor": 5
}
