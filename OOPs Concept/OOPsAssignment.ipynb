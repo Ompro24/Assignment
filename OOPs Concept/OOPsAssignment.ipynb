{
  "metadata": {
    "kernelspec": {
      "name": "python",
      "display_name": "Python (Pyodide)",
      "language": "python"
    },
    "language_info": {
      "codemirror_mode": {
        "name": "python",
        "version": 3
      },
      "file_extension": ".py",
      "mimetype": "text/x-python",
      "name": "python",
      "nbconvert_exporter": "python",
      "pygments_lexer": "ipython3",
      "version": "3.8"
    }
  },
  "nbformat_minor": 4,
  "nbformat": 4,
  "cells": [
    {
      "cell_type": "code",
      "source": "#Q1, Create a vehicle class with an init method having instance variables as name_of_vehicle, max_speed\n#and average_of_vehicle.\n\nclass vehicle:\n    def __init__(self,name_of_vehicle, max_speed,average_of_vehicle):\n        self.name_of_vehicle=name_of_vehicle\n        self.max_speed=max_speed\n        self.average_of_vehicle=average_of_vehicle\nVehicle=vehicle(\"Ferrari\",80,30)",
      "metadata": {
        "trusted": true
      },
      "outputs": [],
      "execution_count": 3
    },
    {
      "cell_type": "code",
      "source": "\"\"\"Create a child class car from the vehicle class created in Que 1, which will inherit the vehicle class.\nCreate a method named seating_capacity which takes capacity as an argument and returns the name of\nthe vehicle and its seating capacity.\"\"\"\n\nclass car(vehicle):\n    def seating_capacity(self,capacity):\n        self.capacity=capacity\n        print(capacity,self.name_of_vehicle)\ncar_instance=car(\"Ferrari\",100,30)\ncar_instance.seating_capacity(4)",
      "metadata": {
        "trusted": true
      },
      "outputs": [
        {
          "name": "stdout",
          "text": "4 Ferrari\n",
          "output_type": "stream"
        }
      ],
      "execution_count": 5
    },
    {
      "cell_type": "code",
      "source": "#Q3. What is multiple inheritance? Write a python code to demonstrate multiple inheritance.\n\"\"\"Multiple inheritance is a feature in object-oriented programming where a class can inherit attributes \nand methods from more than one parent class. In Python, this means that a derived class can have more\nthan one base class.\"\"\"\n\nclass model:\n    def model_desc(self):\n        return \"This is model description\"\nclass speed:\n    def model_speed(self):\n        return \"This is model speed\"\nclass car(speed,model):\n    pass\nCar_desc=car()\nCar_desc.model_speed()",
      "metadata": {
        "trusted": true
      },
      "outputs": [
        {
          "execution_count": 12,
          "output_type": "execute_result",
          "data": {
            "text/plain": "'This is model speed'"
          },
          "metadata": {}
        }
      ],
      "execution_count": 12
    },
    {
      "cell_type": "code",
      "source": "Car_desc.model_desc()",
      "metadata": {
        "trusted": true
      },
      "outputs": [
        {
          "execution_count": 13,
          "output_type": "execute_result",
          "data": {
            "text/plain": "'This is model description'"
          },
          "metadata": {}
        }
      ],
      "execution_count": 13
    },
    {
      "cell_type": "code",
      "source": "#What are getter and setter in python? Create a class and create a getter and a setter method in this\n#class.\nclass test1:\n    def set_details(self,Student_name,marks,email):\n        self.__Student_name=Student_name\n        self.__marks=marks\n        self.__email=email\n    def get_details(self):\n        return self.__Student_name,self.__email,self.__marks\nOm=test1()\nOm.set_details(\"OM\",90,\"ommrane24@gmail.com\")",
      "metadata": {
        "trusted": true
      },
      "outputs": [],
      "execution_count": 7
    },
    {
      "cell_type": "code",
      "source": "Om.get_details()",
      "metadata": {
        "trusted": true
      },
      "outputs": [
        {
          "execution_count": 8,
          "output_type": "execute_result",
          "data": {
            "text/plain": "('OM', 'ommrane24@gmail.com', 90)"
          },
          "metadata": {}
        }
      ],
      "execution_count": 8
    },
    {
      "cell_type": "code",
      "source": "#Q5.What is method overriding in python? Write a python code to demonstrate method overriding\n\"\"\" Method overriding in Python is a feature that allows a subclass to provide a specific implementation of a method\nthat is already defined in its superclass. This is useful when the behavior of the superclass method is not suitable \nfor the subclass, and the subclass needs to perform a different action for the same method call. \"\"\"\n\nclass parent():\n    def greet(self):\n        print(\"Hello from parent\")\nclass child(parent):\n    def great(self):\n        print(\"Hello from child\")\nobj1=parent()\nobj2=p",
      "metadata": {
        "trusted": true
      },
      "outputs": [
        {
          "ename": "<class 'SyntaxError'>",
          "evalue": "incomplete input (<ipython-input-9-7a78484231d4>, line 6)",
          "traceback": [
            "\u001b[0;36m  Cell \u001b[0;32mIn[9], line 6\u001b[0;36m\u001b[0m\n\u001b[0;31m    class parent():\u001b[0m\n\u001b[0m                   ^\u001b[0m\n\u001b[0;31mSyntaxError\u001b[0m\u001b[0;31m:\u001b[0m incomplete input\n"
          ],
          "output_type": "error"
        }
      ],
      "execution_count": 9
    },
    {
      "cell_type": "code",
      "source": "",
      "metadata": {
        "trusted": true
      },
      "outputs": [],
      "execution_count": null
    }
  ]
}