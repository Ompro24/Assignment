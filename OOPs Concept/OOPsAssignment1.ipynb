{
  "metadata": {
    "kernelspec": {
      "name": "python",
      "display_name": "Python (Pyodide)",
      "language": "python"
    },
    "language_info": {
      "codemirror_mode": {
        "name": "python",
        "version": 3
      },
      "file_extension": ".py",
      "mimetype": "text/x-python",
      "name": "python",
      "nbconvert_exporter": "python",
      "pygments_lexer": "ipython3",
      "version": "3.8"
    }
  },
  "nbformat_minor": 4,
  "nbformat": 4,
  "cells": [
    {
      "cell_type": "code",
      "source": "#Q1. Explain Class and Object with respect to Object-Oriented Programming. Give a suitable example.\n\"\"\"Class and Object in Object-Oriented Programming\nClass\nA class in object-oriented programming (OOP) is a blueprint or prototype that defines the attributes (data) and\nmethods (functions) that objects of the class will have. It encapsulates data for the object and functions to manipulate\nthat data.\n\nObject\nAn object is an instance of a class. It is a concrete entity based on the class blueprint. Each object can have its own \nunique values for the attributes defined by the class.\"\"\"\n#Example for class and object\n\n#defined a class person\nclass Person:\n\n    # The __init__ method initializes the object's attributes\n    def __init__(self,name,age,gender):\n        self.name=name\n        self.age=age\n        self.gender=gender\n        \n    # A method to display the person's details\n    def details(self):\n        print(self.name,self.age,self.gender)\n        \n# Created an object of the class 'Person'\nRahul=Person(\"Rahul\",20,\"Male\")\n# Accessing the object's attributes and methods\nprint(Rahul.name)          \nprint(Rahul.age)           \nRahul.details()    \n    ",
      "metadata": {
        "trusted": true
      },
      "outputs": [
        {
          "name": "stdout",
          "text": "Rahul\n20\nRahul 20 Male\n",
          "output_type": "stream"
        }
      ],
      "execution_count": 8
    },
    {
      "cell_type": "code",
      "source": "#Q2. Name the four pillars of OOPs.\n\"\"\"\nFour pillars of OOPs are as foolows:\nEncapsulation\nInheritence\nPolymorphism\nAbstraction\n\"\"\"",
      "metadata": {
        "trusted": true
      },
      "outputs": [],
      "execution_count": null
    },
    {
      "cell_type": "code",
      "source": "#Q3. Explain why the __init__() function is used. Give a suitable example.\n'''\nThe __init__() function in Python is a special method, also known as a constructor, that is automatically called\nwhen a new instance of a class is created. It is used to initialize the attributes of the class, setting their initial\nvalues and performing any setup necessary for the object.\n'''\nclass Car:\n    def __init__(self, make, model, year):\n        self.make = make      \n        self.model = model    \n        self.year = year      \n        \n    def display_info(self):\n        print(f\"Car Information: {self.year} {self.make} {self.model}\")\n\n# Creating an object of the class 'Car'\nmy_car = Car(\"Toyota\", \"Corolla\", 2020)\n\n# Accessing the object's attributes and methods\nprint(my_car.make)       \nprint(my_car.model)       \nprint(my_car.year)        \nmy_car.display_info()     ",
      "metadata": {
        "trusted": true
      },
      "outputs": [
        {
          "name": "stdout",
          "text": "Toyota\nCorolla\n2020\nCar Information: 2020 Toyota Corolla\n",
          "output_type": "stream"
        }
      ],
      "execution_count": 9
    },
    {
      "cell_type": "code",
      "source": "#Q4. Why self is used in OOPs?\n'''\nIn Python, self is a reference to the current instance of the class. It is used within class methods to access attributes\nand other methods of the class. self allows each object to keep track of its own data and methods, and it helps \ndifferentiate between instance attributes/methods and local variables.\n'''\n",
      "metadata": {
        "trusted": true
      },
      "outputs": [],
      "execution_count": null
    },
    {
      "cell_type": "code",
      "source": "#Q5.What is inheritance? Give an example for each type of inheritance.\n'''\nInheritance in Python is a way to create a new class that is based on an existing class. The new class, called the \nchild class, inherits attributes and behaviors (methods) from the existing class, known as the parent class. This allows \nthe child class to reuse code from the parent class, and also to add new attributes and methods or modify existing ones.\n'''\n#Single Inheritance:\nclass parent:\n    def __init__(self):\n        print(\"This is parent class of Singel Inheritance\")\nclass child(parent):\n    def __init__(self):\n        super().__init__()\n        print(\"This is child class of Singel Inheritance\")\nSingle=child()",
      "metadata": {
        "trusted": true
      },
      "outputs": [
        {
          "name": "stdout",
          "text": "This is parent class of Singel Inheritance\nThis is child class of Singel Inheritance\n",
          "output_type": "stream"
        }
      ],
      "execution_count": 3
    },
    {
      "cell_type": "code",
      "source": "#Multilevel Inheritence\nclass parent:\n    def __init__(self):\n        print( \"This is parent class of Multilevel Inheritence\")\n    def parentt(self,parent_name):\n        self.parent_name=parent_name\n        print(self.parent_name)\n\nclass child1(parent):\n    def __init__(self):\n        print( \"This is child1 class of Multilevel Inheritence\")\n    def child(self,child_name):\n        self.child_name=child_name\n        print(self.child_name)\nclass child32(child1):\n    def __init__(self):\n        super().__init__()\n        print( \"This is child2 class of Multilevel Inheritence\")\n    def child23(self,child_name):\n        self.child_name=child_name\n        print(self.child_name)\nMultin=child32()",
      "metadata": {
        "trusted": true
      },
      "outputs": [
        {
          "name": "stdout",
          "text": "This is child1 class of Multilevel Inheritence\nThis is child2 class of Multilevel Inheritence\n",
          "output_type": "stream"
        }
      ],
      "execution_count": 5
    },
    {
      "cell_type": "code",
      "source": "",
      "metadata": {
        "trusted": true
      },
      "outputs": [],
      "execution_count": null
    },
    {
      "cell_type": "code",
      "source": "",
      "metadata": {
        "trusted": true
      },
      "outputs": [],
      "execution_count": null
    }
  ]
}