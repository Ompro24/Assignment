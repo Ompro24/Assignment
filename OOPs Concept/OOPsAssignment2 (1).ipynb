{
  "metadata": {
    "kernelspec": {
      "name": "python",
      "display_name": "Python (Pyodide)",
      "language": "python"
    },
    "language_info": {
      "codemirror_mode": {
        "name": "python",
        "version": 3
      },
      "file_extension": ".py",
      "mimetype": "text/x-python",
      "name": "python",
      "nbconvert_exporter": "python",
      "pygments_lexer": "ipython3",
      "version": "3.8"
    }
  },
  "nbformat_minor": 4,
  "nbformat": 4,
  "cells": [
    {
      "cell_type": "code",
      "source": "#Q1. What is Abstraction in OOps? Explain with an example.\nimport abc\n\nclass abstractmethod:\n    @abc.abstractmethod\n    def Course_details(self):\n        pass\n    @abc.abstractmethod\n    def Course_name(self):\n        pass\nclass Datascience(abstractmethod):\n    def Course_details(self,Course_id):\n        self.Course_id=Course_id\n        print(self.Course_id)\n    def Course_name(self,Course_name):\n        self.Course_name=Course_name\n        print(self.Course_name)\nDatascience=Datascience()",
      "metadata": {
        "trusted": true
      },
      "outputs": [],
      "execution_count": 5
    },
    {
      "cell_type": "code",
      "source": "Datascience.Course_details(466)",
      "metadata": {
        "trusted": true
      },
      "outputs": [
        {
          "name": "stdout",
          "text": "466\n",
          "output_type": "stream"
        }
      ],
      "execution_count": 6
    },
    {
      "cell_type": "code",
      "source": "Datascience.Course_name(\"DataScience\")",
      "metadata": {
        "trusted": true
      },
      "outputs": [
        {
          "name": "stdout",
          "text": "DataScience\n",
          "output_type": "stream"
        }
      ],
      "execution_count": 7
    },
    {
      "cell_type": "code",
      "source": "#Q2. Differentiate between Abstraction and Encapsulation. Explain with an example.\n\"\"\"\nAbstraction: Hides the complex implementation details and exposes only the essential features. It focuses on \nwhat an object does.\nEncapsulation: Bundles data and methods that operate on the data into a single unit and restricts direct access to\nsome of the object's components. It focuses on how the data is protected and maintained.\n\"\"\"\n#Abstraction Example\nimport abc\n\nclass abstractmethod:\n    @abc.abstractmethod\n    def Course_details(self):\n        pass\n    @abc.abstractmethod\n    def Course_name(self):\n        pass\nclass Datascience(abstractmethod):\n    def Course_details(self,Course_id):\n        self.Course_id=Course_id\n        print(self.Course_id)\n    def Course_name(self,Course_name):\n        self.Course_name=Course_name\n        print(self.Course_name)\nDatascience=Datascience()\nDatascience.Course_details(456)",
      "metadata": {
        "trusted": true
      },
      "outputs": [
        {
          "name": "stdout",
          "text": "456\n",
          "output_type": "stream"
        }
      ],
      "execution_count": 9
    },
    {
      "cell_type": "code",
      "source": "#Encapsulation example\nclass encapsu:\n    def __init__(self,name,age,number):\n        self.name=name\n        self.age=age\n        self.__number=number",
      "metadata": {
        "trusted": true
      },
      "outputs": [],
      "execution_count": 11
    },
    {
      "cell_type": "code",
      "source": "Encapsulation=encapsu(\"Om\",20,4478895746)",
      "metadata": {
        "trusted": true
      },
      "outputs": [],
      "execution_count": 12
    },
    {
      "cell_type": "code",
      "source": "Encapsulation._encapsu__number   #accessing the private variable",
      "metadata": {
        "trusted": true
      },
      "outputs": [
        {
          "execution_count": 17,
          "output_type": "execute_result",
          "data": {
            "text/plain": "4478895746"
          },
          "metadata": {}
        }
      ],
      "execution_count": 17
    },
    {
      "cell_type": "code",
      "source": "#Q4. How can we achieve data abstraction?\n'''\nIn Python, data abstraction can be achieved using abstract classes and interfaces. Abstract classes define a blueprint for\nother classes, allowing you to specify methods that must be created within any child classes built from the abstract class.\nThis is done using the abc module, which stands for Abstract Base Classes.\n'''\nfrom abc import ABC, abstractmethod\n\nclass Shape(ABC):\n    @abstractmethod\n    def area(self):\n        pass\n    \n    @abstractmethod\n    def perimeter(self):\n        pass\n\nclass Circle(Shape):\n    def __init__(self, radius):\n        self.radius = radius\n    \n    def area(self):\n        return 3.14 * self.radius * self.radius\n    \n    def perimeter(self):\n        return 2 * 3.14 * self.radius\n\nclass Rectangle(Shape):\n    def __init__(self, length, breadth):\n        self.length = length\n        self.breadth = breadth\n    \n    def area(self):\n        return self.length * self.breadth\n    \n    def perimeter(self):\n        return 2 * (self.length + self.breadth)\n\n# Instantiate objects\ncircle = Circle(5)\nrectangle = Rectangle(4, 6)\n\nprint(\"Circle Area:\", circle.area())  # Circle Area: 78.5\nprint(\"Circle Perimeter:\", circle.perimeter())  # Circle Perimeter: 31.400000000000002\nprint(\"Rectangle Area:\", rectangle.area())  # Rectangle Area: 24\nprint(\"Rectangle Perimeter:\", rectangle.perimeter())  # Rectangle Perimeter: 20\n",
      "metadata": {
        "trusted": true
      },
      "outputs": [
        {
          "name": "stdout",
          "text": "Circle Area: 78.5\nCircle Perimeter: 31.400000000000002\nRectangle Area: 24\nRectangle Perimeter: 20\n",
          "output_type": "stream"
        }
      ],
      "execution_count": 18
    },
    {
      "cell_type": "code",
      "source": "#Q5. Can we create an instance of an abstract class? Explain your answer.\n'''\nNo, we cannot create an instance of an abstract class directly in Python. Abstract classes are \ndesigned to serve as templates or blueprints for other classes. They are meant to be subclassed and extended, with \ntheir abstract methods implemented by those subclasses.\n'''",
      "metadata": {
        "trusted": true
      },
      "outputs": [],
      "execution_count": null
    }
  ]
}